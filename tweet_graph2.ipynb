{
  "nbformat": 4,
  "nbformat_minor": 0,
  "metadata": {
    "colab": {
      "name": "tweet_graph2.ipynb",
      "version": "0.3.2",
      "provenance": [],
      "include_colab_link": true
    },
    "kernelspec": {
      "name": "python3",
      "display_name": "Python 3"
    }
  },
  "cells": [
    {
      "cell_type": "markdown",
      "metadata": {
        "id": "view-in-github",
        "colab_type": "text"
      },
      "source": [
        "<a href=\"https://colab.research.google.com/github/pravash21/tweepy_scrapping/blob/master/tweet_graph2.ipynb\" target=\"_parent\"><img src=\"https://colab.research.google.com/assets/colab-badge.svg\" alt=\"Open In Colab\"/></a>"
      ]
    },
    {
      "metadata": {
        "id": "BS_KKRr8k2N2",
        "colab_type": "code",
        "outputId": "99b5828d-46f8-4f49-bc55-d2156cdc2793",
        "colab": {
          "base_uri": "https://localhost:8080/",
          "height": 187
        }
      },
      "cell_type": "code",
      "source": [
        "!pip install tweepy"
      ],
      "execution_count": 0,
      "outputs": [
        {
          "output_type": "stream",
          "text": [
            "Requirement already satisfied: tweepy in /usr/local/lib/python3.6/dist-packages (3.6.0)\n",
            "Requirement already satisfied: requests>=2.11.1 in /usr/local/lib/python3.6/dist-packages (from tweepy) (2.21.0)\n",
            "Requirement already satisfied: requests-oauthlib>=0.7.0 in /usr/local/lib/python3.6/dist-packages (from tweepy) (1.2.0)\n",
            "Requirement already satisfied: PySocks>=1.5.7 in /usr/local/lib/python3.6/dist-packages (from tweepy) (1.6.8)\n",
            "Requirement already satisfied: six>=1.10.0 in /usr/local/lib/python3.6/dist-packages (from tweepy) (1.12.0)\n",
            "Requirement already satisfied: certifi>=2017.4.17 in /usr/local/lib/python3.6/dist-packages (from requests>=2.11.1->tweepy) (2019.3.9)\n",
            "Requirement already satisfied: urllib3<1.25,>=1.21.1 in /usr/local/lib/python3.6/dist-packages (from requests>=2.11.1->tweepy) (1.24.2)\n",
            "Requirement already satisfied: chardet<3.1.0,>=3.0.2 in /usr/local/lib/python3.6/dist-packages (from requests>=2.11.1->tweepy) (3.0.4)\n",
            "Requirement already satisfied: idna<2.9,>=2.5 in /usr/local/lib/python3.6/dist-packages (from requests>=2.11.1->tweepy) (2.8)\n",
            "Requirement already satisfied: oauthlib>=3.0.0 in /usr/local/lib/python3.6/dist-packages (from requests-oauthlib>=0.7.0->tweepy) (3.0.1)\n"
          ],
          "name": "stdout"
        }
      ]
    },
    {
      "metadata": {
        "id": "J0l3ihjxlRGn",
        "colab_type": "code",
        "colab": {}
      },
      "cell_type": "code",
      "source": [
        "import re \n",
        "import datetime\n",
        "import tweepy \n",
        "from tweepy import OAuthHandler\n",
        "from collections import defaultdict\n",
        "import networkx as nx\n",
        "import matplotlib.pyplot as plt"
      ],
      "execution_count": 0,
      "outputs": []
    },
    {
      "metadata": {
        "id": "ZSIZBzdMlX00",
        "colab_type": "code",
        "outputId": "3890ca14-97dc-43c3-e22f-bdc23a92638a",
        "colab": {
          "base_uri": "https://localhost:8080/",
          "height": 812
        }
      },
      "cell_type": "code",
      "source": [
        "class TwitterClient(object): \n",
        "    \n",
        "    def __init__(self): \n",
        "        ''' \n",
        "        Class constructor or initialization method. \n",
        "        '''\n",
        "        # keys and tokens from the Twitter Dev Console \n",
        "        consumer_key = '9ZT84sMENHGuUtGScMrWvIV9D'\n",
        "        consumer_secret = 'mvQWO17OvQJEONGR5a96KPbqAPpznLPTzFPi1Ke0pEYh2ULK08'\n",
        "        access_token = '627369688-A6UECJida7K6jggxbo3DNEN4xCuHdrdpBRm6cxHX'\n",
        "        access_token_secret = 'dbTp5geakYdj0A27OFEEQNwMvRoB72k3McZ5eijXWZEht'\n",
        "  \n",
        "        # attempt authentication \n",
        "        try: \n",
        "            # create OAuthHandler object \n",
        "            self.auth = OAuthHandler(consumer_key, consumer_secret) \n",
        "            # set access token and secret \n",
        "            self.auth.set_access_token(access_token, access_token_secret) \n",
        "            # create tweepy API object to fetch tweets \n",
        "            self.api = tweepy.API(self.auth,wait_on_rate_limit=True, wait_on_rate_limit_notify=True, compression=True) \n",
        "        except: \n",
        "            print(\"Error: Authentication Failed\") \n",
        "  \n",
        "    def get_tweets(self, query, count = 10): \n",
        "        \n",
        "        tweets = [] \n",
        "  \n",
        "        try: \n",
        "            # call twitter api to fetch tweets \n",
        "            fetched_tweets = self.api.search(q = query, count = count) \n",
        "            req_tweets=[]\n",
        "            startDate = datetime.datetime(2019, 4, 28, 0, 0, 0)\n",
        "            endDate =   datetime.datetime(2019, 4, 29, 0, 0, 0)\n",
        "            for t in fetched_tweets:\n",
        "                if(t.created_at < endDate and t.created_at > startDate):\n",
        "                  print(t.user.name)\n",
        "                  req_tweets.append(t)\n",
        "            follow=[[]]*len(req_tweets)\n",
        "            followin=[[]]*len(req_tweets)\n",
        "            for i in range(len(req_tweets)): \n",
        "                tweet=req_tweets[i]\n",
        "                foll=self.api.followers(tweet.user.id)\n",
        "                \n",
        "                for f in foll:\n",
        "                    follow[i].append(f.id)\n",
        "                folli=self.api.friends(tweet.user.id)\n",
        "                for f in folli:\n",
        "                    followin[i].append(f.id)\n",
        "            graph = nx.Graph()\n",
        "            for i in range(len(req_tweets)):\n",
        "              graph.add_node(req_tweets[i].user.id)\n",
        "            for i in range(len(req_tweets)):\n",
        "              tw=req_tweets[i]\n",
        "              for j in range(i+1,len(req_tweets)):\n",
        "                z=req_tweets[j]\n",
        "                if(z.user.id in follow[i]):\n",
        "                  graph.add_edge(tw.user.id,z.user.id)\n",
        "                if(z.user.id in followin[i]):\n",
        "                  graph.add_edge(z.user.id,tw.user.id)\n",
        "            # Listing the users which are connected to each user\n",
        "            \n",
        "            nx.draw(graph)\n",
        "            plt.savefig(\"graph.png\")\n",
        "            plt.show()\n",
        "  \n",
        "        except tweepy.TweepError as e: \n",
        "            # print error (if any) \n",
        "            print(\"Error : \" + str(e)) \n",
        "def main(): \n",
        "    # creating object of TwitterClient Class \n",
        "    api = TwitterClient() \n",
        "    \n",
        "    \n",
        "    tweets = api.get_tweets(query = 'Air Pollution in Delhi', count = 200) \n",
        "\n",
        "if __name__ == \"__main__\": \n",
        "    # calling main function \n",
        "    main() "
      ],
      "execution_count": 12,
      "outputs": [
        {
          "output_type": "stream",
          "text": [
            "Syed Imran MBBS MPH\n",
            "JAS\n",
            "Asvin Sadhasivuni\n",
            "surendra shetty\n",
            "Abhishek Dutt\n",
            "Shatrunjay Sharan\n",
            "sarah jacob\n",
            "Lakshmanan Murugesan\n",
            "chowkidar krishna\n",
            "Shikhant aka Choorma\n",
            "Chowkidar Sunil\n",
            "Jagat Semwal\n",
            "Rajesh Pathikonda\n",
            "Ramesh Chander Goyal\n",
            "Allergic to Dumb\n",
            "Allergic to Dumb\n",
            "David Nicholson\n",
            "Mangoman\n",
            "Proud to be an Indian\n",
            "Fußballgott\n",
            "Fußballgott\n",
            "HAL 3rd Stage RWA\n",
            "rvn\n",
            "Dinah\n",
            "The Anachronist\n",
            "Gulshan\n"
          ],
          "name": "stdout"
        },
        {
          "output_type": "stream",
          "text": [
            "Rate limit reached. Sleeping for: 246\n",
            "Rate limit reached. Sleeping for: 640\n",
            "Rate limit reached. Sleeping for: 246\n"
          ],
          "name": "stderr"
        },
        {
          "output_type": "display_data",
          "data": {
            "image/png": "[encoded data removed]",
            "text/plain": [
              "<Figure size 432x288 with 1 Axes>"
            ]
          },
          "metadata": {
            "tags": []
          }
        }
      ]
    }
  ]
}